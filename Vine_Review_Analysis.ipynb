{
  "nbformat": 4,
  "nbformat_minor": 0,
  "metadata": {
    "colab": {
      "name": "Vine_Review_Analysis.ipynb",
      "provenance": [],
      "collapsed_sections": [],
      "include_colab_link": true
    },
    "kernelspec": {
      "name": "python3",
      "display_name": "Python 3"
    },
    "nteract": {
      "version": "0.12.3"
    },
    "language_info": {
      "name": "python"
    }
  },
  "cells": [
    {
      "cell_type": "markdown",
      "metadata": {
        "id": "view-in-github",
        "colab_type": "text"
      },
      "source": [
        "<a href=\"https://colab.research.google.com/github/hishamdewan/Amazon_Vine_Analysis/blob/main/Vine_Review_Analysis.ipynb\" target=\"_parent\"><img src=\"https://colab.research.google.com/assets/colab-badge.svg\" alt=\"Open In Colab\"/></a>"
      ]
    },
    {
      "cell_type": "code",
      "metadata": {
        "id": "V58rxea0HqSa",
        "colab": {
          "base_uri": "https://localhost:8080/"
        },
        "outputId": "c52407d6-e73e-448e-faaf-a3a078920557"
      },
      "source": [
        "import os\n",
        "# Find the latest version of spark 3.0 from http://www.apache.org/dist/spark/ and enter as the spark version\n",
        "# For example:\n",
        "# spark_version = 'spark-3.0.3'\n",
        "spark_version = 'spark-3.0.3'\n",
        "os.environ['SPARK_VERSION']=spark_version\n",
        "\n",
        "# Install Spark and Java\n",
        "!apt-get update\n",
        "!apt-get install openjdk-11-jdk-headless -qq > /dev/null\n",
        "!wget -q http://www.apache.org/dist/spark/$SPARK_VERSION/$SPARK_VERSION-bin-hadoop2.7.tgz\n",
        "!tar xf $SPARK_VERSION-bin-hadoop2.7.tgz\n",
        "!pip install -q findspark\n",
        "\n",
        "# Set Environment Variables\n",
        "os.environ[\"JAVA_HOME\"] = \"/usr/lib/jvm/java-11-openjdk-amd64\"\n",
        "os.environ[\"SPARK_HOME\"] = f\"/content/{spark_version}-bin-hadoop2.7\"\n",
        "\n",
        "# Start a SparkSession\n",
        "import findspark\n",
        "findspark.init()"
      ],
      "execution_count": null,
      "outputs": [
        {
          "output_type": "stream",
          "name": "stdout",
          "text": [
            "\r0% [Working]\r            \rIgn:1 https://developer.download.nvidia.com/compute/cuda/repos/ubuntu1804/x86_64  InRelease\n",
            "\r0% [Connecting to archive.ubuntu.com] [Connecting to security.ubuntu.com] [Wait\r                                                                               \rIgn:2 https://developer.download.nvidia.com/compute/machine-learning/repos/ubuntu1804/x86_64  InRelease\n",
            "\r0% [Connecting to archive.ubuntu.com] [Connecting to security.ubuntu.com] [Wait\r                                                                               \rHit:3 https://cloud.r-project.org/bin/linux/ubuntu bionic-cran40/ InRelease\n",
            "\r0% [Connecting to archive.ubuntu.com (91.189.88.152)] [Connecting to security.u\r                                                                               \rHit:4 https://developer.download.nvidia.com/compute/cuda/repos/ubuntu1804/x86_64  Release\n",
            "Hit:5 https://developer.download.nvidia.com/compute/machine-learning/repos/ubuntu1804/x86_64  Release\n",
            "Hit:6 http://security.ubuntu.com/ubuntu bionic-security InRelease\n",
            "Hit:7 http://ppa.launchpad.net/c2d4u.team/c2d4u4.0+/ubuntu bionic InRelease\n",
            "Hit:8 http://archive.ubuntu.com/ubuntu bionic InRelease\n",
            "Hit:10 http://archive.ubuntu.com/ubuntu bionic-updates InRelease\n",
            "Hit:11 http://ppa.launchpad.net/cran/libgit2/ubuntu bionic InRelease\n",
            "Hit:13 http://archive.ubuntu.com/ubuntu bionic-backports InRelease\n",
            "Hit:14 http://ppa.launchpad.net/deadsnakes/ppa/ubuntu bionic InRelease\n",
            "Hit:15 http://ppa.launchpad.net/graphics-drivers/ppa/ubuntu bionic InRelease\n",
            "Reading package lists... Done\n"
          ]
        }
      ]
    },
    {
      "cell_type": "code",
      "metadata": {
        "id": "MMqDAjVS0KN9"
      },
      "source": [
        "from pyspark.sql import SparkSession\n",
        "spark = SparkSession.builder.appName(\"M16-Amazon-Challenge\").config(\"spark.driver.extraClassPath\",\"/content/postgresql-42.2.16.jar\").getOrCreate()"
      ],
      "execution_count": null,
      "outputs": []
    },
    {
      "cell_type": "markdown",
      "metadata": {
        "id": "cyBsySGuY-9V"
      },
      "source": [
        "### Load Amazon Data into Spark DataFrame"
      ]
    },
    {
      "cell_type": "code",
      "metadata": {
        "id": "CtCmBhQJY-9Z",
        "colab": {
          "base_uri": "https://localhost:8080/"
        },
        "outputId": "8b13e824-edf1-4841-a435-d3f425f4a856"
      },
      "source": [
        "from pyspark import SparkFiles\n",
        "url = \"https://s3.amazonaws.com/amazon-reviews-pds/tsv/amazon_reviews_us_Furniture_v1_00.tsv.gz\"\n",
        "spark.sparkContext.addFile(url)\n",
        "df = spark.read.option(\"encoding\", \"UTF-8\").csv(SparkFiles.get(\"\"), sep=\"\\t\", header=True, inferSchema=True)\n",
        "df.show()"
      ],
      "execution_count": null,
      "outputs": [
        {
          "output_type": "stream",
          "name": "stdout",
          "text": [
            "+-----------+-----------+--------------+----------+--------------+--------------------+----------------+-----------+-------------+-----------+----+-----------------+--------------------+--------------------+-----------+\n",
            "|marketplace|customer_id|     review_id|product_id|product_parent|       product_title|product_category|star_rating|helpful_votes|total_votes|vine|verified_purchase|     review_headline|         review_body|review_date|\n",
            "+-----------+-----------+--------------+----------+--------------+--------------------+----------------+-----------+-------------+-----------+----+-----------------+--------------------+--------------------+-----------+\n",
            "|         US|   24509695|R3VR960AHLFKDV|B004HB5E0E|     488241329|Shoal Creek Compu...|       Furniture|          4|            0|          0|   N|                Y|... desk is very ...|This desk is very...| 2015-08-31|\n",
            "|         US|   34731776|R16LGVMFKIUT0G|B0042TNMMS|     205864445|Dorel Home Produc...|       Furniture|          5|            0|          0|   N|                Y|          Five Stars|          Great item| 2015-08-31|\n",
            "|         US|    1272331|R1AIMEEPYHMOE4|B0030MPBZ4|     124663823|Bathroom Vanity T...|       Furniture|          5|            1|          1|   N|                Y|          Five Stars|Perfect fit for m...| 2015-08-31|\n",
            "|         US|   45284262|R1892CCSZWZ9SR|B005G02ESA|     382367578|Sleep Master Ulti...|       Furniture|          3|            0|          0|   N|                Y|         Good enough|We use this on a ...| 2015-08-31|\n",
            "|         US|   30003523|R285P679YWVKD1|B005JS8AUA|     309497463|1 1/4\" GashGuards...|       Furniture|          3|            0|          0|   N|                N|Gash Gards for da...|The product is fi...| 2015-08-31|\n",
            "|         US|   18311821| RLB33HJBXHZHU|B00AVUQQGQ|     574537906|Serta Bonded Leat...|       Furniture|          5|            0|          0|   N|                Y|          Five Stars|Love this product...| 2015-08-31|\n",
            "|         US|   42943632|R1VGTZ94DBAD6A|B00CFY20GQ|     407473883|Prepac Shoe Stora...|       Furniture|          5|            2|          2|   N|                Y|   I love this bench|I love this bench...| 2015-08-31|\n",
            "|         US|   43157304|R168KF82ICSOHD|B00FKC48QA|     435120460|HomCom PU Leather...|       Furniture|          5|            0|          0|   N|                Y|Great storage cap...|Have had this for...| 2015-08-31|\n",
            "|         US|   51918480|R20DIYIJ0OCMOG|B00N9IAL9K|     356495985|  Folding Step Stool|       Furniture|          5|            0|          0|   N|                Y|This is the best ...|This is the best ...| 2015-08-31|\n",
            "|         US|   14522766| RD46RNVOHNZSC|B001T4XU1C|     243050228|Ace Bayou Adult V...|       Furniture|          5|            0|          0|   N|                Y|    great for price!|    my son loves it!| 2015-08-31|\n",
            "|         US|   43054112|R2JDOCETTM3AXS|B002HRFLBC|      93574483|4D Concepts Audio...|       Furniture|          5|            0|          0|   N|                Y|          Five Stars|       Great product| 2015-08-31|\n",
            "|         US|   26622950|R33YMW36IDZ6LE|B006MISZOC|     941823468|Zinus SC-SBBK-14N...|       Furniture|          5|            0|          0|   N|                Y|             perfect|bought with sleep...| 2015-08-31|\n",
            "|         US|   17988940|R30ZGGUHZ04C1S|B008BMGABC|     460567746|Poundex Marble Di...|       Furniture|          5|            1|          1|   N|                Y|   Very satisfied!!!|Delivery was on t...| 2015-08-31|\n",
            "|         US|   18444952| RS2EZU76IK2BT|B00CO2VH5Y|     829613894|Safavieh Lyndhurs...|       Furniture|          5|            0|          0|   N|                Y|soft and great fo...|Exactly as pictur...| 2015-08-31|\n",
            "|         US|   16937084|R1GJC1BP028XO9|B00LI4RJQ0|     816478187|Sauder Boone Moun...|       Furniture|          5|            2|          3|   N|                Y|        Great table.|Beautiful table. ...| 2015-08-31|\n",
            "|         US|   23665632|R2VKJPGXXEK5GP|B0046EC1D0|     358594389|Winsome Wood Brea...|       Furniture|          1|            0|          0|   N|                Y|Not what I expect...|I have cleaned up...| 2015-08-31|\n",
            "|         US|    4110125|R17KS83G3KLT97|B00DQQPL36|     312571325|HODEDAH IMPORT Me...|       Furniture|          3|            0|          0|   N|                Y|         Three Stars|First one came in...| 2015-08-31|\n",
            "|         US|     107621|R3PQL8SR4NEHWL|B003X7RWB2|     402665054|Flash Furniture H...|       Furniture|          4|            0|          0|   N|                Y|          Four Stars|Good deal to get ...| 2015-08-31|\n",
            "|         US|    2415090|R2F5WW7WNO5RRG|B001TJYPJ8|     854989315|Sleep Revolution ...|       Furniture|          5|            0|          0|   N|                Y|          Five Stars|Comfortable and e...| 2015-08-31|\n",
            "|         US|   48285966|R3UDJKVWQCFIC9|B000TMHX9A|     814079288|Flash Furniture V...|       Furniture|          5|            0|          0|   N|                Y|Very comfortable....|As advertised. Ve...| 2015-08-31|\n",
            "+-----------+-----------+--------------+----------+--------------+--------------------+----------------+-----------+-------------+-----------+----+-----------------+--------------------+--------------------+-----------+\n",
            "only showing top 20 rows\n",
            "\n"
          ]
        }
      ]
    },
    {
      "cell_type": "markdown",
      "metadata": {
        "id": "2yUSe55VY-9t"
      },
      "source": [
        "### Recreate vine_table DataFrames"
      ]
    },
    {
      "cell_type": "code",
      "metadata": {
        "id": "lzMmkdKmY--D",
        "colab": {
          "base_uri": "https://localhost:8080/"
        },
        "outputId": "2dff68ef-ae0b-4b49-f7bc-dd151df998ab"
      },
      "source": [
        "# Create the vine_table. DataFrame\n",
        "vine_df = df.select([\"review_id\", \"star_rating\", \"helpful_votes\", \"total_votes\", \"vine\", \"verified_purchase\"])\n",
        "vine_df.show()"
      ],
      "execution_count": null,
      "outputs": [
        {
          "output_type": "stream",
          "name": "stdout",
          "text": [
            "+--------------+-----------+-------------+-----------+----+-----------------+\n",
            "|     review_id|star_rating|helpful_votes|total_votes|vine|verified_purchase|\n",
            "+--------------+-----------+-------------+-----------+----+-----------------+\n",
            "|R3VR960AHLFKDV|          4|            0|          0|   N|                Y|\n",
            "|R16LGVMFKIUT0G|          5|            0|          0|   N|                Y|\n",
            "|R1AIMEEPYHMOE4|          5|            1|          1|   N|                Y|\n",
            "|R1892CCSZWZ9SR|          3|            0|          0|   N|                Y|\n",
            "|R285P679YWVKD1|          3|            0|          0|   N|                N|\n",
            "| RLB33HJBXHZHU|          5|            0|          0|   N|                Y|\n",
            "|R1VGTZ94DBAD6A|          5|            2|          2|   N|                Y|\n",
            "|R168KF82ICSOHD|          5|            0|          0|   N|                Y|\n",
            "|R20DIYIJ0OCMOG|          5|            0|          0|   N|                Y|\n",
            "| RD46RNVOHNZSC|          5|            0|          0|   N|                Y|\n",
            "|R2JDOCETTM3AXS|          5|            0|          0|   N|                Y|\n",
            "|R33YMW36IDZ6LE|          5|            0|          0|   N|                Y|\n",
            "|R30ZGGUHZ04C1S|          5|            1|          1|   N|                Y|\n",
            "| RS2EZU76IK2BT|          5|            0|          0|   N|                Y|\n",
            "|R1GJC1BP028XO9|          5|            2|          3|   N|                Y|\n",
            "|R2VKJPGXXEK5GP|          1|            0|          0|   N|                Y|\n",
            "|R17KS83G3KLT97|          3|            0|          0|   N|                Y|\n",
            "|R3PQL8SR4NEHWL|          4|            0|          0|   N|                Y|\n",
            "|R2F5WW7WNO5RRG|          5|            0|          0|   N|                Y|\n",
            "|R3UDJKVWQCFIC9|          5|            0|          0|   N|                Y|\n",
            "+--------------+-----------+-------------+-----------+----+-----------------+\n",
            "only showing top 20 rows\n",
            "\n"
          ]
        }
      ]
    },
    {
      "cell_type": "code",
      "metadata": {
        "colab": {
          "base_uri": "https://localhost:8080/"
        },
        "id": "vQsnVyUjmA7F",
        "outputId": "f5909bbe-4704-4351-fd98-7fc4064d9043"
      },
      "source": [
        "vine_df.count()"
      ],
      "execution_count": null,
      "outputs": [
        {
          "output_type": "execute_result",
          "data": {
            "text/plain": [
              "792113"
            ]
          },
          "metadata": {},
          "execution_count": 23
        }
      ]
    },
    {
      "cell_type": "code",
      "metadata": {
        "colab": {
          "base_uri": "https://localhost:8080/"
        },
        "id": "ckZ21B1Tj6af",
        "outputId": "014aabb1-d9b9-4316-dca7-f53450188b71"
      },
      "source": [
        "# vine_df is filtered to create a DataFrame or table where there are 20 or more total votes\n",
        "vine_df_20 = vine_df.filter(\"total_votes>=20\")\n",
        "vine_df_20.show()"
      ],
      "execution_count": null,
      "outputs": [
        {
          "output_type": "stream",
          "name": "stdout",
          "text": [
            "+--------------+-----------+-------------+-----------+----+-----------------+\n",
            "|     review_id|star_rating|helpful_votes|total_votes|vine|verified_purchase|\n",
            "+--------------+-----------+-------------+-----------+----+-----------------+\n",
            "| RL8D0KJ0J9L0O|          5|          152|        165|   N|                Y|\n",
            "|R1BEINAIQFBRJC|          5|           21|         23|   N|                Y|\n",
            "|R2L59KIJH302P9|          4|           26|         26|   N|                Y|\n",
            "| RR99CPG695T0I|          5|          215|        248|   N|                N|\n",
            "|R1XQNKKUPCMWVO|          5|           43|         44|   N|                Y|\n",
            "|R3JUXVCT1NSK2A|          3|           25|         26|   N|                Y|\n",
            "|R3GNSIFV1J2Y2B|          1|           15|         60|   N|                N|\n",
            "| RTCRZARYY4LXX|          5|           52|         54|   N|                Y|\n",
            "|R3OFB4P7Y8WR27|          1|           15|         26|   N|                Y|\n",
            "|R3MTAYGQM25N63|          4|           58|         59|   N|                Y|\n",
            "| RJNDSWES5ISZ7|          5|           78|         79|   N|                Y|\n",
            "|R15R7STOZZP2A4|          5|           33|         34|   N|                Y|\n",
            "|R33V5WV529NK8E|          4|           30|         32|   N|                Y|\n",
            "| RIR9ZI3L80P7P|          3|           72|         76|   N|                N|\n",
            "|R10P6SDC1D6C3I|          5|           23|         25|   N|                Y|\n",
            "|R110G9UVLI2MLS|          5|           52|         55|   N|                Y|\n",
            "|R1I4LN1WR3YVJX|          1|           31|         40|   N|                Y|\n",
            "|R1B76MPCS05UX9|          5|           19|         21|   N|                Y|\n",
            "|R17PJIKAZ3U6BG|          5|           21|         21|   N|                Y|\n",
            "|R2T3TLCX42RWLY|          5|           46|         48|   N|                Y|\n",
            "+--------------+-----------+-------------+-----------+----+-----------------+\n",
            "only showing top 20 rows\n",
            "\n"
          ]
        }
      ]
    },
    {
      "cell_type": "code",
      "metadata": {
        "colab": {
          "base_uri": "https://localhost:8080/"
        },
        "id": "vssuo2UEmHAr",
        "outputId": "a647db73-eafd-4393-d7d7-74052e8a6aaf"
      },
      "source": [
        "vine_df_20.count()"
      ],
      "execution_count": null,
      "outputs": [
        {
          "output_type": "execute_result",
          "data": {
            "text/plain": [
              "18739"
            ]
          },
          "metadata": {},
          "execution_count": 25
        }
      ]
    },
    {
      "cell_type": "code",
      "metadata": {
        "colab": {
          "base_uri": "https://localhost:8080/"
        },
        "id": "erhKhoZklIoV",
        "outputId": "0e591fe4-d9e2-4125-ca98-0da9dcc6cee5"
      },
      "source": [
        "# The data is filtered to create a DataFrame where the percentage of helpful_votes is equal to or greater than 50%\n",
        "# vine_df_helpful_50 = vine_df_20.filter(\"helpful_votes>50\")\n",
        "vine_df_helpful_50 = vine_df_20.withColumn('percent_helpful_votes', vine_df_20['helpful_votes']/vine_df_20['total_votes']).filter(\"percent_helpful_votes>0.50\")\n",
        "vine_df_helpful_50.show()"
      ],
      "execution_count": null,
      "outputs": [
        {
          "output_type": "stream",
          "name": "stdout",
          "text": [
            "+--------------+-----------+-------------+-----------+----+-----------------+---------------------+\n",
            "|     review_id|star_rating|helpful_votes|total_votes|vine|verified_purchase|percent_helpful_votes|\n",
            "+--------------+-----------+-------------+-----------+----+-----------------+---------------------+\n",
            "| RL8D0KJ0J9L0O|          5|          152|        165|   N|                Y|   0.9212121212121213|\n",
            "|R1BEINAIQFBRJC|          5|           21|         23|   N|                Y|   0.9130434782608695|\n",
            "|R2L59KIJH302P9|          4|           26|         26|   N|                Y|                  1.0|\n",
            "| RR99CPG695T0I|          5|          215|        248|   N|                N|   0.8669354838709677|\n",
            "|R1XQNKKUPCMWVO|          5|           43|         44|   N|                Y|   0.9772727272727273|\n",
            "|R3JUXVCT1NSK2A|          3|           25|         26|   N|                Y|   0.9615384615384616|\n",
            "| RTCRZARYY4LXX|          5|           52|         54|   N|                Y|   0.9629629629629629|\n",
            "|R3OFB4P7Y8WR27|          1|           15|         26|   N|                Y|   0.5769230769230769|\n",
            "|R3MTAYGQM25N63|          4|           58|         59|   N|                Y|   0.9830508474576272|\n",
            "| RJNDSWES5ISZ7|          5|           78|         79|   N|                Y|   0.9873417721518988|\n",
            "|R15R7STOZZP2A4|          5|           33|         34|   N|                Y|   0.9705882352941176|\n",
            "|R33V5WV529NK8E|          4|           30|         32|   N|                Y|               0.9375|\n",
            "| RIR9ZI3L80P7P|          3|           72|         76|   N|                N|   0.9473684210526315|\n",
            "|R10P6SDC1D6C3I|          5|           23|         25|   N|                Y|                 0.92|\n",
            "|R110G9UVLI2MLS|          5|           52|         55|   N|                Y|   0.9454545454545454|\n",
            "|R1I4LN1WR3YVJX|          1|           31|         40|   N|                Y|                0.775|\n",
            "|R1B76MPCS05UX9|          5|           19|         21|   N|                Y|   0.9047619047619048|\n",
            "|R17PJIKAZ3U6BG|          5|           21|         21|   N|                Y|                  1.0|\n",
            "|R2T3TLCX42RWLY|          5|           46|         48|   N|                Y|   0.9583333333333334|\n",
            "|R39YWJ09ZCPW7P|          5|           24|         28|   N|                Y|   0.8571428571428571|\n",
            "+--------------+-----------+-------------+-----------+----+-----------------+---------------------+\n",
            "only showing top 20 rows\n",
            "\n"
          ]
        }
      ]
    },
    {
      "cell_type": "code",
      "metadata": {
        "colab": {
          "base_uri": "https://localhost:8080/"
        },
        "id": "YlFVoGq1mMi9",
        "outputId": "c91689a5-f38b-46a4-c3e7-9035e7bdf964"
      },
      "source": [
        "vine_df_helpful_50.count()"
      ],
      "execution_count": null,
      "outputs": [
        {
          "output_type": "execute_result",
          "data": {
            "text/plain": [
              "18135"
            ]
          },
          "metadata": {},
          "execution_count": 27
        }
      ]
    },
    {
      "cell_type": "code",
      "metadata": {
        "colab": {
          "base_uri": "https://localhost:8080/"
        },
        "id": "X3zM_b9TlOtP",
        "outputId": "e27e0b12-ccec-4375-f922-2b0e23da8e4b"
      },
      "source": [
        "# The data is filtered to create a DataFrame or table where there is a Vine review\n",
        "from pyspark.sql.functions import col\n",
        "vine_yes = vine_df_helpful_50.filter(col(\"vine\")== \"Y\")\n",
        "vine_yes.show()"
      ],
      "execution_count": null,
      "outputs": [
        {
          "output_type": "stream",
          "name": "stdout",
          "text": [
            "+--------------+-----------+-------------+-----------+----+-----------------+---------------------+\n",
            "|     review_id|star_rating|helpful_votes|total_votes|vine|verified_purchase|percent_helpful_votes|\n",
            "+--------------+-----------+-------------+-----------+----+-----------------+---------------------+\n",
            "|R2BQOD1R0228FN|          3|           17|         26|   Y|                N|   0.6538461538461539|\n",
            "| RC31RUPFOHBHQ|          4|          102|        117|   Y|                N|   0.8717948717948718|\n",
            "| REN3N1WITLF1Y|          5|           33|         37|   Y|                N|   0.8918918918918919|\n",
            "| R71RZQ9UZVG47|          4|           38|         47|   Y|                N|   0.8085106382978723|\n",
            "|R38NMQBH88HLM6|          4|           18|         24|   Y|                N|                 0.75|\n",
            "|R33FGX9EE3QVR6|          4|           26|         26|   Y|                N|                  1.0|\n",
            "|R1KIOIK6WEYE59|          3|           19|         20|   Y|                N|                 0.95|\n",
            "|R25X9BMOB3FD0E|          4|           32|         37|   Y|                N|   0.8648648648648649|\n",
            "|R3VCKFCX2377Q2|          4|           95|        101|   Y|                N|   0.9405940594059405|\n",
            "|R1E0OUG63HMSM4|          3|           58|         61|   Y|                N|   0.9508196721311475|\n",
            "|R1V45RUW5ZB3LS|          4|           19|         21|   Y|                N|   0.9047619047619048|\n",
            "| RTF6DSZ1UTLHH|          5|          401|        418|   Y|                N|   0.9593301435406698|\n",
            "|R1CZV9N2YLJAP7|          5|          123|        136|   Y|                Y|   0.9044117647058824|\n",
            "|R1OF3X9W99Y300|          4|           27|         35|   Y|                N|   0.7714285714285715|\n",
            "|R1JYKEH4CQVJ1B|          5|           22|         23|   Y|                N|   0.9565217391304348|\n",
            "|R1093XVB0H2QOL|          4|           51|         54|   Y|                N|   0.9444444444444444|\n",
            "|R3Q81B31F1CPGH|          3|           50|         55|   Y|                N|   0.9090909090909091|\n",
            "|R2P6XIZZPJF7AE|          5|           46|         51|   Y|                N|   0.9019607843137255|\n",
            "|R3N5S06UW5MKFE|          3|          907|        925|   Y|                N|   0.9805405405405405|\n",
            "|R3J9EJCVKFCRWO|          5|           18|         20|   Y|                N|                  0.9|\n",
            "+--------------+-----------+-------------+-----------+----+-----------------+---------------------+\n",
            "only showing top 20 rows\n",
            "\n"
          ]
        }
      ]
    },
    {
      "cell_type": "code",
      "metadata": {
        "colab": {
          "base_uri": "https://localhost:8080/"
        },
        "id": "oSF4ulbColAa",
        "outputId": "c71eaa3f-7b8f-4822-cef9-b75d503ca2a7"
      },
      "source": [
        "vine_yes.count()"
      ],
      "execution_count": null,
      "outputs": [
        {
          "output_type": "execute_result",
          "data": {
            "text/plain": [
              "136"
            ]
          },
          "metadata": {},
          "execution_count": 29
        }
      ]
    },
    {
      "cell_type": "code",
      "metadata": {
        "colab": {
          "base_uri": "https://localhost:8080/"
        },
        "id": "7EdTl73LlTRN",
        "outputId": "2414c205-ae69-4e5a-e960-64eecbb2661a"
      },
      "source": [
        "# The data is filtered to create a DataFrame or table where there IS NO Vine review\n",
        "vine_no = vine_df_helpful_50.filter(col(\"vine\")== \"N\")\n",
        "vine_no.show()"
      ],
      "execution_count": null,
      "outputs": [
        {
          "output_type": "stream",
          "name": "stdout",
          "text": [
            "+--------------+-----------+-------------+-----------+----+-----------------+---------------------+\n",
            "|     review_id|star_rating|helpful_votes|total_votes|vine|verified_purchase|percent_helpful_votes|\n",
            "+--------------+-----------+-------------+-----------+----+-----------------+---------------------+\n",
            "| RL8D0KJ0J9L0O|          5|          152|        165|   N|                Y|   0.9212121212121213|\n",
            "|R1BEINAIQFBRJC|          5|           21|         23|   N|                Y|   0.9130434782608695|\n",
            "|R2L59KIJH302P9|          4|           26|         26|   N|                Y|                  1.0|\n",
            "| RR99CPG695T0I|          5|          215|        248|   N|                N|   0.8669354838709677|\n",
            "|R1XQNKKUPCMWVO|          5|           43|         44|   N|                Y|   0.9772727272727273|\n",
            "|R3JUXVCT1NSK2A|          3|           25|         26|   N|                Y|   0.9615384615384616|\n",
            "| RTCRZARYY4LXX|          5|           52|         54|   N|                Y|   0.9629629629629629|\n",
            "|R3OFB4P7Y8WR27|          1|           15|         26|   N|                Y|   0.5769230769230769|\n",
            "|R3MTAYGQM25N63|          4|           58|         59|   N|                Y|   0.9830508474576272|\n",
            "| RJNDSWES5ISZ7|          5|           78|         79|   N|                Y|   0.9873417721518988|\n",
            "|R15R7STOZZP2A4|          5|           33|         34|   N|                Y|   0.9705882352941176|\n",
            "|R33V5WV529NK8E|          4|           30|         32|   N|                Y|               0.9375|\n",
            "| RIR9ZI3L80P7P|          3|           72|         76|   N|                N|   0.9473684210526315|\n",
            "|R10P6SDC1D6C3I|          5|           23|         25|   N|                Y|                 0.92|\n",
            "|R110G9UVLI2MLS|          5|           52|         55|   N|                Y|   0.9454545454545454|\n",
            "|R1I4LN1WR3YVJX|          1|           31|         40|   N|                Y|                0.775|\n",
            "|R1B76MPCS05UX9|          5|           19|         21|   N|                Y|   0.9047619047619048|\n",
            "|R17PJIKAZ3U6BG|          5|           21|         21|   N|                Y|                  1.0|\n",
            "|R2T3TLCX42RWLY|          5|           46|         48|   N|                Y|   0.9583333333333334|\n",
            "|R39YWJ09ZCPW7P|          5|           24|         28|   N|                Y|   0.8571428571428571|\n",
            "+--------------+-----------+-------------+-----------+----+-----------------+---------------------+\n",
            "only showing top 20 rows\n",
            "\n"
          ]
        }
      ]
    },
    {
      "cell_type": "code",
      "metadata": {
        "id": "hTiMjTKRlXFL"
      },
      "source": [
        "# Determine the total number of reviews, the number of 5-star reviews, and the percentage of 5-star reviews for the two types of review (paid vs unpaid).\n",
        "total_number_of_reviews = vine_df_helpful_50.count()\n",
        "number_of_5_star_reviews = vine_df_helpful_50.filter(\"star_rating==5\").count()\n"
      ],
      "execution_count": null,
      "outputs": []
    },
    {
      "cell_type": "code",
      "metadata": {
        "colab": {
          "base_uri": "https://localhost:8080/"
        },
        "id": "Pvm4UPIPsrFC",
        "outputId": "ccca5522-7807-49b0-bd90-4cb87bdadc34"
      },
      "source": [
        "unpaid_total_number_of_reviews = vine_no.count()\n",
        "unpaid_5_star_reviews = vine_no.filter(\"star_rating==5\").count()\n",
        "percentage_unpaid_5_star_reviews = unpaid_5_star_reviews/unpaid_total_number_of_reviews\n",
        "percentage_unpaid_5_star_reviews"
      ],
      "execution_count": null,
      "outputs": [
        {
          "output_type": "execute_result",
          "data": {
            "text/plain": [
              "0.4711372854047447"
            ]
          },
          "metadata": {},
          "execution_count": 32
        }
      ]
    },
    {
      "cell_type": "code",
      "metadata": {
        "colab": {
          "base_uri": "https://localhost:8080/"
        },
        "id": "aQ9SqQ_1vMvl",
        "outputId": "6c539a6a-0621-403a-ff6f-5a25371c8b80"
      },
      "source": [
        "paid_total_number_of_reviews = vine_yes.count()\n",
        "paid_5_star_reviews = vine_yes.filter(\"star_rating==5\").count()\n",
        "percentage_paid_5_star_reviews = paid_5_star_reviews/paid_total_number_of_reviews\n",
        "percentage_paid_5_star_reviews"
      ],
      "execution_count": null,
      "outputs": [
        {
          "output_type": "execute_result",
          "data": {
            "text/plain": [
              "0.5441176470588235"
            ]
          },
          "metadata": {},
          "execution_count": 33
        }
      ]
    },
    {
      "cell_type": "code",
      "metadata": {
        "colab": {
          "base_uri": "https://localhost:8080/"
        },
        "id": "eMP-K8SduXSL",
        "outputId": "d76b8b9a-285a-4cec-ec47-43926fe582a8"
      },
      "source": [
        "print(\"Total number of reviews %f\" % total_number_of_reviews)\n",
        "print(\"Number of 5-star reviews %f\" % number_of_5_star_reviews)\n",
        "print(\"Total number of unpaid reviews %f\" % unpaid_total_number_of_reviews)\n",
        "print(\"Total number of Amazon Vine reviews %f\" % paid_total_number_of_reviews)\n",
        "print(\"Number of 5-star unpaid reviews %f\" % unpaid_5_star_reviews)\n",
        "print(\"Number of 5-star Amazon Vine reviews %f\" % paid_5_star_reviews)\n",
        "print(\"Percentage of unpaid 5 star reviews %f\" % (percentage_unpaid_5_star_reviews*100), \"%\")\n",
        "print(\"Percentage of Amazon Vine 5 star reviews %f\" % (percentage_paid_5_star_reviews*100), \"%\")"
      ],
      "execution_count": 37,
      "outputs": [
        {
          "output_type": "stream",
          "name": "stdout",
          "text": [
            "Total number of reviews 18135.000000\n",
            "Number of 5-star reviews 8554.000000\n",
            "Total number of unpaid reviews 17999.000000\n",
            "Total number of Amazon Vine reviews 136.000000\n",
            "Number of 5-star unpaid reviews 8480.000000\n",
            "Number of 5-star Amazon Vine reviews 74.000000\n",
            "Percentage of unpaid 5 star reviews 47.113729 %\n",
            "Percentage of Amazon Vine 5 star reviews 54.411765 %\n"
          ]
        }
      ]
    }
  ]
}